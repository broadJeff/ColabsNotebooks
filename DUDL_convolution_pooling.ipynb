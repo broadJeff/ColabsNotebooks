{
  "nbformat": 4,
  "nbformat_minor": 0,
  "metadata": {
    "colab": {
      "provenance": [],
      "authorship_tag": "ABX9TyNSs8dr9W3sQb2tlPZNqyFD",
      "include_colab_link": true
    },
    "kernelspec": {
      "name": "python3",
      "display_name": "Python 3"
    },
    "language_info": {
      "name": "python"
    }
  },
  "cells": [
    {
      "cell_type": "markdown",
      "metadata": {
        "id": "view-in-github",
        "colab_type": "text"
      },
      "source": [
        "<a href=\"https://colab.research.google.com/github/broadJeff/ColabsNotebooks/blob/main/DUDL_convolution_pooling.ipynb\" target=\"_parent\"><img src=\"https://colab.research.google.com/assets/colab-badge.svg\" alt=\"Open In Colab\"/></a>"
      ]
    },
    {
      "cell_type": "markdown",
      "source": [
        "The notebook explains the concept of pooling in convolution"
      ],
      "metadata": {
        "id": "K_eQukz__6E9"
      }
    },
    {
      "cell_type": "markdown",
      "source": [
        "#### There are three main pooling techniques:\n",
        "1. Max Pooling\n",
        "2. Mean Pooling\n",
        "3. Min Pooling\n",
        "\n",
        "Pooling is a technique where we sequentially select an area of the input tensor and find the max/mean/min of all the values present in that area. After which, the window that selects the area moves to another area next to the selected area and performs the same operation (the specific number of steps that the windows moves is decide by the value of stride). Thus covering the entire tensor space. Every time the windows finds the intended value after the operation, it adds to a new tensor. Thus, leading to a creation of downsampled or low dimensional tensor"
      ],
      "metadata": {
        "id": "R736tSyxAHF6"
      }
    },
    {
      "cell_type": "code",
      "execution_count": null,
      "metadata": {
        "id": "XQtMZwwL-Dhb"
      },
      "outputs": [],
      "source": []
    }
  ]
}
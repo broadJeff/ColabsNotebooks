{
  "nbformat": 4,
  "nbformat_minor": 0,
  "metadata": {
    "colab": {
      "provenance": [],
      "authorship_tag": "ABX9TyMSnhMhh50DvVfDJ152w3aQ",
      "include_colab_link": true
    },
    "kernelspec": {
      "name": "python3",
      "display_name": "Python 3"
    },
    "language_info": {
      "name": "python"
    }
  },
  "cells": [
    {
      "cell_type": "markdown",
      "metadata": {
        "id": "view-in-github",
        "colab_type": "text"
      },
      "source": [
        "<a href=\"https://colab.research.google.com/github/broadJeff/ColabsNotebooks/blob/main/DUDL_convolution_pooling.ipynb\" target=\"_parent\"><img src=\"https://colab.research.google.com/assets/colab-badge.svg\" alt=\"Open In Colab\"/></a>"
      ]
    },
    {
      "cell_type": "markdown",
      "source": [
        "##The notebook explains the concept of pooling in convolution"
      ],
      "metadata": {
        "id": "K_eQukz__6E9"
      }
    },
    {
      "cell_type": "markdown",
      "source": [
        "#### There are three main pooling techniques:\n",
        "1. Max Pooling\n",
        "2. Mean Pooling\n",
        "3. Min Pooling\n",
        "\n",
        "Pooling is a technique where we sequentially select an area of the input tensor and find the max/mean/min of all the values present in that area. After which, the window that selects the area moves to another area next to the selected area and performs the same operation (the specific number of steps that the windows moves is decide by the value of stride). Thus covering the entire tensor space. Every time the windows finds the intended value after the operation, it adds to a new tensor. Thus, leading to a creation of downsampled or low dimensional tensor"
      ],
      "metadata": {
        "id": "R736tSyxAHF6"
      }
    },
    {
      "cell_type": "markdown",
      "source": [
        "- ##### Pooling of 3D image using 2D kernel will result in a 3D output. The reason for this is that the 2D kernel will be applied to each slice of the 3rd axis of the input image and thus resulting in a 3D output\n",
        "\n",
        "- ##### Pooling of a 3D image with a 3D kernel will result in a 2D output."
      ],
      "metadata": {
        "id": "PMiXAg_IN_no"
      }
    },
    {
      "cell_type": "code",
      "source": [
        "# Import the necessary libraries\n",
        "import torch\n",
        "import torch.nn as nn"
      ],
      "metadata": {
        "id": "wbyxgqNCUvh7"
      },
      "execution_count": 51,
      "outputs": []
    },
    {
      "cell_type": "code",
      "execution_count": 52,
      "metadata": {
        "colab": {
          "base_uri": "https://localhost:8080/"
        },
        "id": "XQtMZwwL-Dhb",
        "outputId": "04a290d1-e1ed-4b57-de2e-bd918d8328e0"
      },
      "outputs": [
        {
          "output_type": "stream",
          "name": "stdout",
          "text": [
            "MaxPool2d(kernel_size=2, stride=2, padding=0, dilation=1, ceil_mode=False)\n",
            "MaxPool3d(kernel_size=2, stride=2, padding=0, dilation=1, ceil_mode=False)\n"
          ]
        }
      ],
      "source": [
        "# Create a maxpool instance\n",
        "\n",
        "# parameters\n",
        "stride = 2\n",
        "kernel_size = 2\n",
        "\n",
        "# Create an instance of maxpooling\n",
        "\n",
        "p2 = nn.MaxPool2d(stride=stride,\n",
        "                  kernel_size=kernel_size)\n",
        "\n",
        "p3 = nn.MaxPool3d(stride=stride,\n",
        "                  kernel_size=kernel_size)\n",
        "\n",
        "\n",
        "# Visualize the pooling layers\n",
        "print(p2)\n",
        "print(p3)\n"
      ]
    },
    {
      "cell_type": "code",
      "source": [
        "# Create a sample 2D and 3D image\n",
        "img2 = torch.rand(1, 1, 64, 64)\n",
        "img3 = torch.rand(1, 3, 64, 64)\n",
        "\n",
        "# Apply convolutions\n",
        "img2pool2 = p2(img2)\n",
        "print(f\"2D image 2D maxpool: {img2pool2.shape}\")\n",
        "\n",
        "# the below commented lines will give an error\n",
        "# 2D image cannot be pooled by a 3D kernel\n",
        "# img2pool3 = p3(img2)\n",
        "# print(f\"2D image 3D maxpool: {img2pool3.shape}\")\n",
        "\n",
        "img3pool2 = p2(img3)\n",
        "print(f\"3D image 2D maxpool: {img3pool2.shape}\")\n",
        "\n",
        "img3pool3 = p3(img3)\n",
        "print(f\"3D image 3D maxpool: {img3pool3.shape}\")"
      ],
      "metadata": {
        "colab": {
          "base_uri": "https://localhost:8080/"
        },
        "id": "xqRkrfxnWR3B",
        "outputId": "feaf76cd-a5d4-4b48-bca0-1af2f2bf04e1"
      },
      "execution_count": 53,
      "outputs": [
        {
          "output_type": "stream",
          "name": "stdout",
          "text": [
            "2D image 2D maxpool: torch.Size([1, 1, 32, 32])\n",
            "3D image 2D maxpool: torch.Size([1, 3, 32, 32])\n",
            "3D image 3D maxpool: torch.Size([1, 1, 32, 32])\n"
          ]
        }
      ]
    },
    {
      "cell_type": "markdown",
      "source": [
        "### Create a simple CNN"
      ],
      "metadata": {
        "id": "MjmBNaK9c-K3"
      }
    },
    {
      "cell_type": "code",
      "source": [
        "from torch.nn.modules.pooling import MaxPool2d\n",
        "littlenet = nn.Sequential(\n",
        "    nn.Conv2d(3, 10, 5, 3, 2),\n",
        "    nn.ReLU(),\n",
        "    nn.AvgPool3d(stride=3,\n",
        "                 kernel_size=3),\n",
        "\n",
        "    nn.Flatten(),\n",
        "    nn.Linear(588, 1),\n",
        "    nn.Sigmoid()\n",
        "\n",
        "\n",
        ")"
      ],
      "metadata": {
        "id": "ndQXU-Ifc9q2"
      },
      "execution_count": 54,
      "outputs": []
    },
    {
      "cell_type": "code",
      "source": [
        "img = torch.rand(1, 3, 128, 128)"
      ],
      "metadata": {
        "id": "kHqvRiv0XEaw"
      },
      "execution_count": 55,
      "outputs": []
    },
    {
      "cell_type": "code",
      "source": [
        "littlenet(img)"
      ],
      "metadata": {
        "colab": {
          "base_uri": "https://localhost:8080/"
        },
        "id": "HB1rYpoHbhUT",
        "outputId": "5a0180ef-3677-4539-da44-d47f3587bcf6"
      },
      "execution_count": 56,
      "outputs": [
        {
          "output_type": "execute_result",
          "data": {
            "text/plain": [
              "tensor([[0.5019]], grad_fn=<SigmoidBackward0>)"
            ]
          },
          "metadata": {},
          "execution_count": 56
        }
      ]
    },
    {
      "cell_type": "markdown",
      "source": [
        "#### Breaking down how the above we got 556 in the linear layer"
      ],
      "metadata": {
        "id": "LrhgqFULglw7"
      }
    },
    {
      "cell_type": "code",
      "source": [
        "\n",
        "A = nn.Conv2d(3, 10, 5, 3, 2) # Conv2d instance\n",
        "B = nn.AvgPool3d(3, 3) # Average Pool 3d instance\n",
        "C = nn.Flatten() # Flatten instance"
      ],
      "metadata": {
        "id": "s7UwGDUvekdW"
      },
      "execution_count": 57,
      "outputs": []
    },
    {
      "cell_type": "code",
      "source": [
        "x = A(img) # Perform convolution\n",
        "print(x.shape)"
      ],
      "metadata": {
        "colab": {
          "base_uri": "https://localhost:8080/"
        },
        "id": "Ncez6QorgD9a",
        "outputId": "f1174b91-8bd7-467a-a47f-86376ed5dae4"
      },
      "execution_count": 58,
      "outputs": [
        {
          "output_type": "stream",
          "name": "stdout",
          "text": [
            "torch.Size([1, 10, 43, 43])\n"
          ]
        }
      ]
    },
    {
      "cell_type": "code",
      "source": [
        "x = B(x) # Appy average 3 pooling\n",
        "print(x.shape)"
      ],
      "metadata": {
        "colab": {
          "base_uri": "https://localhost:8080/"
        },
        "id": "MOGovOCjgLVt",
        "outputId": "c102e5d9-5c3f-4c3b-8aa0-a11340c5562c"
      },
      "execution_count": 59,
      "outputs": [
        {
          "output_type": "stream",
          "name": "stdout",
          "text": [
            "torch.Size([1, 3, 14, 14])\n"
          ]
        }
      ]
    },
    {
      "cell_type": "code",
      "source": [
        "print(3 * 14 * 14)"
      ],
      "metadata": {
        "colab": {
          "base_uri": "https://localhost:8080/"
        },
        "id": "-Czragu2gSKR",
        "outputId": "0742a29c-0196-4b61-f2f4-80bb39d7b7da"
      },
      "execution_count": 60,
      "outputs": [
        {
          "output_type": "stream",
          "name": "stdout",
          "text": [
            "588\n"
          ]
        }
      ]
    },
    {
      "cell_type": "code",
      "source": [
        "x = C(x) # Flatten to multiply all dims to one dims\n",
        "print(x.shape) # should be exactly same as O/P of the above cell"
      ],
      "metadata": {
        "colab": {
          "base_uri": "https://localhost:8080/"
        },
        "id": "ikDXShb5gVky",
        "outputId": "c07cc00d-df9f-4b27-898c-2c7d6f537676"
      },
      "execution_count": 61,
      "outputs": [
        {
          "output_type": "stream",
          "name": "stdout",
          "text": [
            "torch.Size([1, 588])\n"
          ]
        }
      ]
    },
    {
      "cell_type": "markdown",
      "source": [
        "### Another example to test the understanding"
      ],
      "metadata": {
        "id": "PHIeXzqr0jPc"
      }
    },
    {
      "cell_type": "code",
      "source": [
        "# Create a 3D image\n",
        "img2 = torch.rand(1, 3, 256, 256)\n",
        "\n",
        "# Parameters to use\n",
        "in_channels = 3\n",
        "out_channels = 12\n",
        "kernel_size = 9\n",
        "stride = 1\n",
        "padding = 1\n",
        "\n",
        "# Create a conv2D instance\n",
        "c2 = nn.Conv2d(in_channels = in_channels,\n",
        "               out_channels = out_channels,\n",
        "               kernel_size=kernel_size,\n",
        "               stride=stride,\n",
        "               padding=padding)\n",
        "\n",
        "# Create average pooling instance\n",
        "avp3 = nn.AvgPool3d(kernel_size=3,\n",
        "                    stride=3)\n",
        "\n",
        "# Create Flatten instance\n",
        "flat =  nn.Flatten()\n"
      ],
      "metadata": {
        "id": "wvqbz2zwgiCo"
      },
      "execution_count": 93,
      "outputs": []
    },
    {
      "cell_type": "code",
      "source": [
        "# Perform convolution\n",
        "x = c2(img2)\n",
        "x = nn.ReLU()(x)\n",
        "print(f\"The shape of the convolved image: {x.shape}\")"
      ],
      "metadata": {
        "colab": {
          "base_uri": "https://localhost:8080/"
        },
        "id": "wL4QxWU22AjJ",
        "outputId": "bcc137b6-b2ad-42f0-914f-7b2128c257dd"
      },
      "execution_count": 94,
      "outputs": [
        {
          "output_type": "stream",
          "name": "stdout",
          "text": [
            "The shape of the convolved image: torch.Size([1, 12, 250, 250])\n"
          ]
        }
      ]
    },
    {
      "cell_type": "code",
      "source": [
        "# Perform average pooling\n",
        "x = avp3(x) # (250 + 2 * 0 - 3)/3 + 1 = 83\n",
        "print(f\"The shape after performing pooling operation: {x.shape}\")\n"
      ],
      "metadata": {
        "colab": {
          "base_uri": "https://localhost:8080/"
        },
        "id": "GzKjL6O_2MDI",
        "outputId": "e1e429f0-c3d6-45e1-afc3-d396edd4f25f"
      },
      "execution_count": 95,
      "outputs": [
        {
          "output_type": "stream",
          "name": "stdout",
          "text": [
            "The shape after performing pooling operation: torch.Size([1, 4, 83, 83])\n"
          ]
        }
      ]
    },
    {
      "cell_type": "markdown",
      "source": [
        "The channel reduces 3D to 2D. In this case we have 12 channels, and hence the 3D will cause the 12 channel reduce to 4"
      ],
      "metadata": {
        "id": "R-QDOyhZ7hPj"
      }
    },
    {
      "cell_type": "code",
      "source": [
        "# Finally flatten the tensor\n",
        "x = flat(x)\n",
        "print(f\"The shape after flattening is: {x.shape}\")"
      ],
      "metadata": {
        "colab": {
          "base_uri": "https://localhost:8080/"
        },
        "id": "_qXCpSHb2kSB",
        "outputId": "a0ef1f81-3f72-4b07-9bcb-3b7f5acc21a7"
      },
      "execution_count": 81,
      "outputs": [
        {
          "output_type": "stream",
          "name": "stdout",
          "text": [
            "The shape after flattening is: torch.Size([1, 27556])\n"
          ]
        }
      ]
    },
    {
      "cell_type": "code",
      "source": [
        "4 * 83 * 83 == x.shape[1]"
      ],
      "metadata": {
        "colab": {
          "base_uri": "https://localhost:8080/"
        },
        "id": "yRlzKfUN2ywF",
        "outputId": "1f6462b7-99f0-481e-c607-dfcdf8b9dc4e"
      },
      "execution_count": 73,
      "outputs": [
        {
          "output_type": "execute_result",
          "data": {
            "text/plain": [
              "True"
            ]
          },
          "metadata": {},
          "execution_count": 73
        }
      ]
    },
    {
      "cell_type": "markdown",
      "source": [],
      "metadata": {
        "id": "K4KZD5YJ7Td_"
      }
    },
    {
      "cell_type": "code",
      "source": [
        "import numpy as np"
      ],
      "metadata": {
        "id": "Ls4wPydN45ln"
      },
      "execution_count": 86,
      "outputs": []
    },
    {
      "cell_type": "code",
      "source": [],
      "metadata": {
        "colab": {
          "base_uri": "https://localhost:8080/"
        },
        "id": "u6gOkLZr23w3",
        "outputId": "083607c9-fafe-42a0-8a2d-ed3a3e34e4bc"
      },
      "execution_count": 98,
      "outputs": [
        {
          "output_type": "execute_result",
          "data": {
            "text/plain": [
              "82.33333333333333"
            ]
          },
          "metadata": {},
          "execution_count": 98
        }
      ]
    },
    {
      "cell_type": "code",
      "source": [],
      "metadata": {
        "colab": {
          "base_uri": "https://localhost:8080/"
        },
        "id": "T0CH53_h4o8W",
        "outputId": "f674f227-e9d0-45dd-9caf-ae1cdca41337"
      },
      "execution_count": 89,
      "outputs": [
        {
          "output_type": "execute_result",
          "data": {
            "text/plain": [
              "253"
            ]
          },
          "metadata": {},
          "execution_count": 89
        }
      ]
    },
    {
      "cell_type": "code",
      "source": [],
      "metadata": {
        "id": "fJwdsj8_5BHi"
      },
      "execution_count": null,
      "outputs": []
    }
  ]
}